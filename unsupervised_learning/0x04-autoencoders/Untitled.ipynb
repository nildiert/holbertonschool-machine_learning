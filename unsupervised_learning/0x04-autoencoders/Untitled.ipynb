{
 "cells": [
  {
   "cell_type": "code",
   "execution_count": 3,
   "metadata": {},
   "outputs": [],
   "source": [
    "import tensorflow.keras as keras"
   ]
  },
  {
   "cell_type": "code",
   "execution_count": 4,
   "metadata": {},
   "outputs": [],
   "source": [
    "# input_dims is an integer containing the dimensions of the model input\n",
    "# hidden_layers is a list containing the number of nodes for each hidden layer in the encoder, respectively\n",
    "# the hidden layers should be reversed for the decoder\n",
    "# latent_dims is an integer containing the dimensions of the latent space representation\n",
    "# encoder, decoder, auto = autoencoder(784, [128, 64], 32)\n",
    "\n",
    "# encoder is the encoder model\n",
    "# decoder is the decoder model\n",
    "# auto is the full autoencoder model\n",
    "\n",
    "def autoencoder(input_dims, hidden_layers, latent_dims):\n",
    "\n",
    "  input_encoder = keras.layers.Input(shape=(input_dims,))\n",
    "\n",
    "  input_encoded = input_encoder\n",
    "  for n in hidden_layers:\n",
    "    encoded = keras.layers.Dense(n, activation='relu')(input_encoded)\n",
    "    input_encoded = encoded\n",
    "  \n",
    "  latent = keras.layers.Dense(latent_dims, activation='relu')(encoded)\n",
    "\n",
    "  #     Encoder Model\n",
    "  encoder = keras.models.Model(input_encoder, latent)\n",
    "  \n",
    "  input_decoded = keras.layers.Input(shape=(latent_dims,))\n",
    "  \n",
    "  prev = input_decoded\n",
    "  for i,n in enumerate(hidden_layers[::-1]):\n",
    "#     activation = 'relu' if i != len(hidden_layers) - 1 else 'sigmoid'\n",
    "    decoded = keras.layers.Dense(n, activation='relu')(prev)\n",
    "    prev = decoded\n",
    "  decoded = keras.layers.Dense(input_dims, activation='sigmoid')(decoded)\n",
    "\n",
    "  #     Decoder Model    \n",
    "  decoder = keras.models.Model(input_decoded, decoded)\n",
    "  input_auto = keras.layers.Input(shape=(input_dims,))\n",
    "  encod_out = encoder(input_auto)\n",
    "  decod_out = decoder(encod_out)\n",
    "  auto = keras.models.Model(inputs=input_auto, outputs=decod_out)\n",
    "\n",
    "  auto.compile(optimizer='adam', loss='binary_crossentropy')\n",
    "\n",
    "  return encoder, decoder, auto"
   ]
  },
  {
   "cell_type": "code",
   "execution_count": null,
   "metadata": {},
   "outputs": [],
   "source": [
    "import matplotlib.pyplot as plt\n",
    "import numpy as np\n",
    "import tensorflow as tf\n",
    "from tensorflow.keras.datasets import mnist\n",
    "\n",
    "# autoencoder = __import__('0-vanilla').autoencoder\n",
    "\n",
    "(x_train, _), (x_test, _) = mnist.load_data()\n",
    "x_train = x_train.astype('float32') / 255.\n",
    "x_test = x_test.astype('float32') / 255.\n",
    "x_train = x_train.reshape((-1, 784))\n",
    "x_test = x_test.reshape((-1, 784))\n",
    "np.random.seed(0)\n",
    "tf.random.set_seed(0)\n",
    "# tf.set_random_seed(0)\n",
    "encoder, decoder, auto = autoencoder(784, [128, 64], 32)\n",
    "auto.fit(x_train, x_train, epochs=50,batch_size=256, shuffle=True,\n",
    "                validation_data=(x_test, x_test))\n",
    "encoded = encoder.predict(x_test[:10])\n",
    "print(np.mean(encoded))\n",
    "reconstructed = decoder.predict(encoded)\n",
    "\n",
    "for i in range(10):\n",
    "    ax = plt.subplot(2, 10, i + 1)\n",
    "    ax.axis('off')\n",
    "    plt.imshow(x_test[i].reshape((28, 28)))\n",
    "    ax = plt.subplot(2, 10, i + 11)\n",
    "    ax.axis('off')\n",
    "    plt.imshow(reconstructed[i].reshape((28, 28)))\n",
    "plt.show()"
   ]
  },
  {
   "cell_type": "code",
   "execution_count": null,
   "metadata": {},
   "outputs": [],
   "source": []
  }
 ],
 "metadata": {
  "kernelspec": {
   "display_name": "Python 3",
   "language": "python",
   "name": "python3"
  },
  "language_info": {
   "codemirror_mode": {
    "name": "ipython",
    "version": 3
   },
   "file_extension": ".py",
   "mimetype": "text/x-python",
   "name": "python",
   "nbconvert_exporter": "python",
   "pygments_lexer": "ipython3",
   "version": "3.8.3"
  }
 },
 "nbformat": 4,
 "nbformat_minor": 4
}
