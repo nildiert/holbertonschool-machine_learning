{
 "cells": [
  {
   "cell_type": "code",
   "execution_count": 16,
   "metadata": {},
   "outputs": [],
   "source": [
    "import tensorflow.keras as keras"
   ]
  },
  {
   "cell_type": "code",
   "execution_count": 17,
   "metadata": {},
   "outputs": [],
   "source": [
    "input_dims, hidden_layers, latent_dims = 784, [128, 64], 32"
   ]
  },
  {
   "cell_type": "code",
   "execution_count": 22,
   "metadata": {},
   "outputs": [],
   "source": [
    "# this is the size of our encoded representations\n",
    "encoding_dim = latent_dims  # 32 floats -> compression of factor 24.5, assuming the input is 784 floats\n",
    "\n",
    "# this is our input placeholder\n",
    "input_img = keras.Input(shape=(input_dims,))\n",
    "# \"encoded\" is the encoded representation of the input\n",
    "encoded = keras.layers.Dense(hidden_layers[0], activation='relu')(input_img)\n",
    "encoded = keras.layers.Dense(hidden_layers[1], activation='relu')(encoded)\n",
    "latent = keras.layers.Dense(latent_dims, activation='relu')(encoded)\n",
    "# \"decoded\" is the lossy reconstruction of the input\n",
    "decoded = keras.layers.Dense(hidden_layers[1], activation='relu')(encoded)\n",
    "decoded = keras.layers.Dense(hidden_layers[0], activation='sigmoid')(decoded)\n",
    "\n",
    "# this model maps an input to its reconstruction\n",
    "autoencoder = keras.models.Model(input_img, decoded)"
   ]
  },
  {
   "cell_type": "code",
   "execution_count": 28,
   "metadata": {},
   "outputs": [
    {
     "name": "stdout",
     "output_type": "stream",
     "text": [
      "Model: \"model_8\"\n",
      "_________________________________________________________________\n",
      "Layer (type)                 Output Shape              Param #   \n",
      "=================================================================\n",
      "input_6 (InputLayer)         [(None, 784)]             0         \n",
      "_________________________________________________________________\n",
      "dense_13 (Dense)             (None, 128)               100480    \n",
      "_________________________________________________________________\n",
      "dense_14 (Dense)             (None, 64)                8256      \n",
      "_________________________________________________________________\n",
      "dense_15 (Dense)             (None, 32)                2080      \n",
      "=================================================================\n",
      "Total params: 110,816\n",
      "Trainable params: 110,816\n",
      "Non-trainable params: 0\n",
      "_________________________________________________________________\n"
     ]
    }
   ],
   "source": [
    "# this model maps an input to its encoded representation\n",
    "encoder = keras.models.Model(input_img, latent)\n",
    "encoder.summary()"
   ]
  },
  {
   "cell_type": "code",
   "execution_count": 30,
   "metadata": {},
   "outputs": [
    {
     "name": "stdout",
     "output_type": "stream",
     "text": [
      "<tensorflow.python.keras.layers.core.Dense object at 0x7fd60c2eb280>\n"
     ]
    }
   ],
   "source": [
    "# create a placeholder for an encoded (32-dimensional) input\n",
    "encoded_input = keras.Input(shape=(encoding_dim,))\n",
    "# retrieve the last layer of the autoencoder model\n",
    "decoder_layer = autoencoder.layers[-1]\n",
    "# create the decoder model\n",
    "decoder = keras.models.Model(encoded_input, decoder_layer(encoded_input))"
   ]
  },
  {
   "cell_type": "code",
   "execution_count": 11,
   "metadata": {},
   "outputs": [],
   "source": [
    "autoencoder.compile(optimizer='adadelta', loss='binary_crossentropy')"
   ]
  },
  {
   "cell_type": "code",
   "execution_count": 12,
   "metadata": {},
   "outputs": [],
   "source": [
    "from tensorflow.keras.datasets import mnist\n",
    "import numpy as np\n",
    "(x_train, _), (x_test, _) = mnist.load_data()"
   ]
  },
  {
   "cell_type": "code",
   "execution_count": 14,
   "metadata": {},
   "outputs": [
    {
     "name": "stdout",
     "output_type": "stream",
     "text": [
      "(60000, 784)\n",
      "(10000, 784)\n"
     ]
    }
   ],
   "source": [
    "x_train = x_train.astype('float32') / 255.\n",
    "x_test = x_test.astype('float32') / 255.\n",
    "x_train = x_train.reshape((len(x_train), np.prod(x_train.shape[1:])))\n",
    "x_test = x_test.reshape((len(x_test), np.prod(x_test.shape[1:])))\n",
    "print(x_train.shape)\n",
    "print(x_test.shape)"
   ]
  },
  {
   "cell_type": "code",
   "execution_count": 15,
   "metadata": {},
   "outputs": [
    {
     "name": "stdout",
     "output_type": "stream",
     "text": [
      "Epoch 1/50\n",
      "235/235 [==============================] - 7s 30ms/step - loss: 0.6959 - val_loss: 0.6958\n",
      "Epoch 2/50\n",
      "235/235 [==============================] - 6s 26ms/step - loss: 0.6956 - val_loss: 0.6956\n",
      "Epoch 3/50\n",
      "235/235 [==============================] - 6s 26ms/step - loss: 0.6954 - val_loss: 0.6953\n",
      "Epoch 4/50\n",
      "235/235 [==============================] - 6s 27ms/step - loss: 0.6951 - val_loss: 0.6951\n",
      "Epoch 5/50\n",
      "235/235 [==============================] - 6s 26ms/step - loss: 0.6949 - val_loss: 0.6948\n",
      "Epoch 6/50\n",
      "235/235 [==============================] - 7s 28ms/step - loss: 0.6947 - val_loss: 0.6946\n",
      "Epoch 7/50\n",
      "235/235 [==============================] - 6s 27ms/step - loss: 0.6944 - val_loss: 0.6944\n",
      "Epoch 8/50\n",
      "235/235 [==============================] - 6s 27ms/step - loss: 0.6942 - val_loss: 0.6941\n",
      "Epoch 9/50\n",
      "235/235 [==============================] - 7s 29ms/step - loss: 0.6940 - val_loss: 0.6939\n",
      "Epoch 10/50\n",
      "235/235 [==============================] - 6s 26ms/step - loss: 0.6938 - val_loss: 0.6937\n",
      "Epoch 11/50\n",
      "235/235 [==============================] - 6s 27ms/step - loss: 0.6936 - val_loss: 0.6935\n",
      "Epoch 12/50\n",
      "235/235 [==============================] - 6s 26ms/step - loss: 0.6933 - val_loss: 0.6933\n",
      "Epoch 13/50\n",
      "235/235 [==============================] - 6s 27ms/step - loss: 0.6931 - val_loss: 0.6930\n",
      "Epoch 14/50\n",
      "235/235 [==============================] - 6s 27ms/step - loss: 0.6929 - val_loss: 0.6928\n",
      "Epoch 15/50\n",
      "235/235 [==============================] - 6s 27ms/step - loss: 0.6927 - val_loss: 0.6926\n",
      "Epoch 16/50\n",
      "235/235 [==============================] - 6s 27ms/step - loss: 0.6925 - val_loss: 0.6924\n",
      "Epoch 17/50\n",
      "235/235 [==============================] - 6s 27ms/step - loss: 0.6923 - val_loss: 0.6922\n",
      "Epoch 18/50\n",
      "235/235 [==============================] - 6s 27ms/step - loss: 0.6921 - val_loss: 0.6920\n",
      "Epoch 19/50\n",
      "235/235 [==============================] - 6s 26ms/step - loss: 0.6919 - val_loss: 0.6918\n",
      "Epoch 20/50\n",
      "235/235 [==============================] - 6s 26ms/step - loss: 0.6917 - val_loss: 0.6916\n",
      "Epoch 21/50\n",
      "235/235 [==============================] - 7s 28ms/step - loss: 0.6915 - val_loss: 0.6914\n",
      "Epoch 22/50\n",
      "235/235 [==============================] - 7s 29ms/step - loss: 0.6913 - val_loss: 0.6912\n",
      "Epoch 23/50\n",
      "235/235 [==============================] - 7s 28ms/step - loss: 0.6911 - val_loss: 0.6910\n",
      "Epoch 24/50\n",
      "235/235 [==============================] - 6s 27ms/step - loss: 0.6909 - val_loss: 0.6908\n",
      "Epoch 25/50\n",
      "235/235 [==============================] - 6s 26ms/step - loss: 0.6907 - val_loss: 0.6906\n",
      "Epoch 26/50\n",
      "235/235 [==============================] - 6s 26ms/step - loss: 0.6905 - val_loss: 0.6903\n",
      "Epoch 27/50\n",
      "235/235 [==============================] - 6s 25ms/step - loss: 0.6903 - val_loss: 0.6901\n",
      "Epoch 28/50\n",
      "235/235 [==============================] - 7s 31ms/step - loss: 0.6901 - val_loss: 0.6899\n",
      "Epoch 29/50\n",
      "235/235 [==============================] - 8s 34ms/step - loss: 0.6898 - val_loss: 0.6897\n",
      "Epoch 30/50\n",
      "235/235 [==============================] - 8s 33ms/step - loss: 0.6896 - val_loss: 0.6895\n",
      "Epoch 31/50\n",
      "235/235 [==============================] - 8s 33ms/step - loss: 0.6894 - val_loss: 0.6893\n",
      "Epoch 32/50\n",
      "235/235 [==============================] - 8s 32ms/step - loss: 0.6892 - val_loss: 0.6891\n",
      "Epoch 33/50\n",
      "235/235 [==============================] - 8s 33ms/step - loss: 0.6890 - val_loss: 0.6888\n",
      "Epoch 34/50\n",
      "235/235 [==============================] - 8s 33ms/step - loss: 0.6888 - val_loss: 0.6886\n",
      "Epoch 35/50\n",
      "235/235 [==============================] - 8s 33ms/step - loss: 0.6885 - val_loss: 0.6884\n",
      "Epoch 36/50\n",
      "235/235 [==============================] - 8s 33ms/step - loss: 0.6883 - val_loss: 0.6881\n",
      "Epoch 37/50\n",
      "235/235 [==============================] - 8s 34ms/step - loss: 0.6881 - val_loss: 0.6879\n",
      "Epoch 38/50\n",
      "235/235 [==============================] - 7s 32ms/step - loss: 0.6878 - val_loss: 0.6877\n",
      "Epoch 39/50\n",
      "235/235 [==============================] - 8s 32ms/step - loss: 0.6876 - val_loss: 0.6874\n",
      "Epoch 40/50\n",
      "235/235 [==============================] - 8s 33ms/step - loss: 0.6874 - val_loss: 0.6872\n",
      "Epoch 41/50\n",
      "235/235 [==============================] - 8s 33ms/step - loss: 0.6871 - val_loss: 0.6869\n",
      "Epoch 42/50\n",
      "235/235 [==============================] - 8s 33ms/step - loss: 0.6869 - val_loss: 0.6867\n",
      "Epoch 43/50\n",
      "235/235 [==============================] - 8s 33ms/step - loss: 0.6866 - val_loss: 0.6864\n",
      "Epoch 44/50\n",
      "235/235 [==============================] - 8s 32ms/step - loss: 0.6863 - val_loss: 0.6861\n",
      "Epoch 45/50\n",
      "235/235 [==============================] - 8s 32ms/step - loss: 0.6861 - val_loss: 0.6859\n",
      "Epoch 46/50\n",
      "235/235 [==============================] - 8s 34ms/step - loss: 0.6858 - val_loss: 0.6856\n",
      "Epoch 47/50\n",
      "235/235 [==============================] - 8s 33ms/step - loss: 0.6855 - val_loss: 0.6853\n",
      "Epoch 48/50\n",
      "235/235 [==============================] - 8s 34ms/step - loss: 0.6852 - val_loss: 0.6850\n",
      "Epoch 49/50\n",
      "235/235 [==============================] - 7s 31ms/step - loss: 0.6849 - val_loss: 0.6847\n",
      "Epoch 50/50\n",
      "235/235 [==============================] - 8s 32ms/step - loss: 0.6847 - val_loss: 0.6844\n"
     ]
    },
    {
     "data": {
      "text/plain": [
       "<tensorflow.python.keras.callbacks.History at 0x7fd61c25b130>"
      ]
     },
     "execution_count": 15,
     "metadata": {},
     "output_type": "execute_result"
    }
   ],
   "source": [
    "autoencoder.fit(x_train, x_train,\n",
    "                epochs=50,\n",
    "                batch_size=256,\n",
    "                shuffle=True,\n",
    "                validation_data=(x_test, x_test))"
   ]
  },
  {
   "cell_type": "code",
   "execution_count": null,
   "metadata": {},
   "outputs": [],
   "source": []
  }
 ],
 "metadata": {
  "kernelspec": {
   "display_name": "Python 3",
   "language": "python",
   "name": "python3"
  },
  "language_info": {
   "codemirror_mode": {
    "name": "ipython",
    "version": 3
   },
   "file_extension": ".py",
   "mimetype": "text/x-python",
   "name": "python",
   "nbconvert_exporter": "python",
   "pygments_lexer": "ipython3",
   "version": "3.8.3"
  }
 },
 "nbformat": 4,
 "nbformat_minor": 4
}
